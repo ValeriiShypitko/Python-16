{
 "cells": [
  {
   "cell_type": "code",
   "execution_count": 23,
   "id": "e28e580a-ae07-4170-8e1f-708c37152e2a",
   "metadata": {},
   "outputs": [],
   "source": [
    "def longestValidParentheses(s):\n",
    "    \"\"\"\n",
    "    :type s: str\n",
    "    :rtype: int\n",
    "    \"\"\"\n",
    "    stack = []\n",
    "    indexes = [0]\n",
    "\n",
    "    for item in range(len(s)):\n",
    "        if s[item] == \"(\":\n",
    "            stack.append(s[item])\n",
    "            indexes.append(item+1)\n",
    "        else:\n",
    "            if not stack or stack[-1] == \")\":\n",
    "                stack.append(s[item])\n",
    "                indexes.append(item + 1)\n",
    "            elif stack[-1] == \"(\":\n",
    "                stack.pop(-1)\n",
    "                indexes.pop(-1)\n",
    "\n",
    "    if indexes[-1] != len(s):\n",
    "        indexes.append(len(s)+1)\n",
    "\n",
    "    ranges = []\n",
    "\n",
    "    for item in range(len(indexes)):\n",
    "        ranges.append(indexes[item]-indexes[item-1]-1)\n",
    "\n",
    "    if max(ranges)<0:\n",
    "        return 0\n",
    "\n",
    "    return max(ranges)\n",
    "\n"
   ]
  },
  {
   "cell_type": "code",
   "execution_count": 24,
   "id": "61498143-54f0-4ea3-b630-3d9f92099497",
   "metadata": {},
   "outputs": [
    {
     "data": {
      "text/plain": [
       "2"
      ]
     },
     "execution_count": 24,
     "metadata": {},
     "output_type": "execute_result"
    }
   ],
   "source": [
    "s = \"()(()\"\n",
    "longestValidParentheses(s)"
   ]
  },
  {
   "cell_type": "code",
   "execution_count": null,
   "id": "8e61659c-853f-4031-82f1-39b51a4a126d",
   "metadata": {},
   "outputs": [],
   "source": []
  }
 ],
 "metadata": {
  "kernelspec": {
   "display_name": "Python [conda env:base] *",
   "language": "python",
   "name": "conda-base-py"
  },
  "language_info": {
   "codemirror_mode": {
    "name": "ipython",
    "version": 3
   },
   "file_extension": ".py",
   "mimetype": "text/x-python",
   "name": "python",
   "nbconvert_exporter": "python",
   "pygments_lexer": "ipython3",
   "version": "3.13.5"
  }
 },
 "nbformat": 4,
 "nbformat_minor": 5
}
